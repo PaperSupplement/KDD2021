{
 "cells": [
  {
   "cell_type": "markdown",
   "metadata": {},
   "source": [
    "# ClusterNE"
   ]
  },
  {
   "cell_type": "code",
   "execution_count": null,
   "metadata": {},
   "outputs": [],
   "source": [
    "import numpy as np\n",
    "from scipy import sparse\n",
    "from matplotlib import pyplot as plt"
   ]
  },
  {
   "cell_type": "code",
   "execution_count": null,
   "metadata": {},
   "outputs": [],
   "source": [
    "from sknetwork.data import load_netset\n",
    "from sknetwork.clustering import Louvain, BiLouvain\n",
    "from sknetwork.linalg import normalize\n",
    "from sknetwork.utils import membership_matrix, bipartite2undirected\n",
    "from sknetwork.ranking import PageRank\n",
    "from sknetwork.clustering.postprocess import reindex_labels"
   ]
  },
  {
   "cell_type": "code",
   "execution_count": null,
   "metadata": {},
   "outputs": [],
   "source": [
    "from sklearn.metrics import accuracy_score\n",
    "from sklearn.svm import SVC"
   ]
  },
  {
   "cell_type": "markdown",
   "metadata": {},
   "source": [
    "## Data"
   ]
  },
  {
   "cell_type": "code",
   "execution_count": null,
   "metadata": {},
   "outputs": [],
   "source": [
    "graph = load_netset('wikivitals')"
   ]
  },
  {
   "cell_type": "code",
   "execution_count": null,
   "metadata": {},
   "outputs": [],
   "source": [
    "adjacency = graph.adjacency\n",
    "names = graph.names\n",
    "labels = graph.labels\n",
    "names_labels = graph.names_labels"
   ]
  },
  {
   "cell_type": "markdown",
   "metadata": {},
   "source": [
    "## Embedding"
   ]
  },
  {
   "cell_type": "code",
   "execution_count": null,
   "metadata": {},
   "outputs": [],
   "source": [
    "def get_bilouvain_embedding(biadjacency, use_bilouvain=True, tol_aggregation=0.01, min_cluster_size=1):\n",
    "    if use_bilouvain:\n",
    "        bilouvain = BiLouvain(sort_clusters=False, tol_aggregation=tol_aggregation)\n",
    "        labels_row = bilouvain.fit_transform(biadjacency)\n",
    "        labels_col = bilouvain.labels_col_\n",
    "    else:\n",
    "        n_row, n_col = biadjacency.shape\n",
    "        louvain = Louvain(sort_clusters=False, tol_aggregation=tol_aggregation)\n",
    "        adjacency = bipartite2undirected(biadjacency)\n",
    "        labels = louvain.fit_transform(adjacency)\n",
    "        labels_row = labels[:n_row]\n",
    "        labels_col = labels[n_row:]\n",
    "    \n",
    "    # remove singletons from column labels\n",
    "    labels_unique, counts = np.unique(labels_col, return_counts=True)\n",
    "    labels_new = -np.ones(max(labels_unique) + 1, dtype='int')\n",
    "    labels_old = labels_unique[counts > min_cluster_size]\n",
    "    labels_new[labels_old] = np.arange(len(labels_old))\n",
    "    labels_col = labels_new[labels_col]\n",
    "\n",
    "    # reindex row labels accordingly\n",
    "    labels_unique = np.unique(labels_row)\n",
    "    labels_new = -np.ones(max(labels_unique) + 1, dtype='int')\n",
    "    labels_new[labels_old] = np.arange(len(labels_old))\n",
    "    labels_row = labels_new[labels_row]\n",
    "    \n",
    "    # embedding\n",
    "    probs = normalize(biadjacency)\n",
    "    embedding_row = probs.dot(membership_matrix(labels_col)).toarray()\n",
    "    probs = normalize(biadjacency.T)\n",
    "    embedding_col = probs.dot(membership_matrix(labels_row)).toarray()\n",
    "    return embedding_row, embedding_col, labels_col    "
   ]
  },
  {
   "cell_type": "code",
   "execution_count": null,
   "metadata": {},
   "outputs": [],
   "source": [
    "embedding_row, embedding_col, labels_pred = get_bilouvain_embedding(adjacency)"
   ]
  },
  {
   "cell_type": "markdown",
   "metadata": {},
   "source": [
    "## Interpretation"
   ]
  },
  {
   "cell_type": "code",
   "execution_count": null,
   "metadata": {},
   "outputs": [],
   "source": [
    "names_labels_pred = ['Biology', 'World', 'History', 'Society', 'Arts & Media', 'Asia', 'Mathematics']\n",
    "names_labels_pred += ['Physics', 'Geography',  'Philosophy',  'Ethnology']"
   ]
  },
  {
   "cell_type": "code",
   "execution_count": null,
   "metadata": {},
   "outputs": [],
   "source": [
    "names_labels_pred = np.array(names_labels_pred)"
   ]
  },
  {
   "cell_type": "code",
   "execution_count": null,
   "metadata": {},
   "outputs": [],
   "source": [
    "pr = PageRank()"
   ]
  },
  {
   "cell_type": "code",
   "execution_count": null,
   "metadata": {},
   "outputs": [],
   "source": [
    "for l in np.unique(labels_pred):\n",
    "    if l >= 0:\n",
    "        index = np.argwhere(labels_pred == l).ravel()\n",
    "        scores = pr.fit_transform(adjacency, seeds = {i: 1 for i in index})\n",
    "        print(l, len(index), names_labels_pred[l])\n",
    "        print(names[index[np.argsort(-scores[index])[:10]]])"
   ]
  },
  {
   "cell_type": "markdown",
   "metadata": {},
   "source": [
    "## Visualization"
   ]
  },
  {
   "cell_type": "code",
   "execution_count": null,
   "metadata": {},
   "outputs": [],
   "source": [
    "angles = [ 4 * np.pi / 3, np.pi / 2, -np.pi / 3]\n",
    "basis = np.array([np.cos(angles), np.sin(angles)])"
   ]
  },
  {
   "cell_type": "code",
   "execution_count": null,
   "metadata": {},
   "outputs": [],
   "source": [
    "def visualize_dots(samples_, components, filename=None):\n",
    "    COLORS = ['b', 'r', 'g']\n",
    "    margin = 0.02\n",
    "    plt.figure(figsize=(5,5))\n",
    "    plt.axis('off')\n",
    "    for i in range(3):\n",
    "        for j in range(2):\n",
    "            vector = np.zeros(3)\n",
    "            vector[i] = 1\n",
    "            x, y = basis.dot(vector)\n",
    "            vector = np.zeros(3)\n",
    "            vector[j] = 1\n",
    "            x_, y_ = basis.dot(vector)        \n",
    "            plt.plot([x, x_], [y, y_], color='k')\n",
    "    for i, component in enumerate(components):\n",
    "        vector = np.zeros(3)\n",
    "        vector[i] = 1\n",
    "        x, y = basis.dot(vector)\n",
    "        plt.scatter(x, y, color=COLORS[i], s=200)\n",
    "        x, y = basis.dot(vector * 1.15)\n",
    "        plt.text(x - 3 * margin, y - margin, names_labels_pred[component], color='k', fontsize=16)\n",
    "    for i, samples in enumerate(samples_):\n",
    "        for s in samples:\n",
    "            x, y = basis.dot(embedding_row[s][components])\n",
    "            plt.scatter(x, y, color=COLORS[i])\n",
    "            #plt.text(x + margin, y - 3 * margin, names[i])\n",
    "    if filename is not None:\n",
    "        plt.savefig(filename + '.pdf', bbox_inches='tight', transparent=True)\n",
    "    plt.show()"
   ]
  },
  {
   "cell_type": "markdown",
   "metadata": {},
   "source": [
    "## Society"
   ]
  },
  {
   "cell_type": "code",
   "execution_count": null,
   "metadata": {},
   "outputs": [],
   "source": [
    "components = np.array([9, 2, 4])\n",
    "print(names_labels_pred[components])"
   ]
  },
  {
   "cell_type": "code",
   "execution_count": null,
   "metadata": {},
   "outputs": [],
   "source": [
    "labels_ = np.array([4, 1, 3])\n",
    "print(names_labels[labels_])"
   ]
  },
  {
   "cell_type": "code",
   "execution_count": null,
   "metadata": {},
   "outputs": [],
   "source": [
    "samples_ = []\n",
    "for label in labels_:\n",
    "    index = np.argwhere((labels == label)).ravel()\n",
    "    scores = pr.fit_transform(adjacency, seeds = {i: 1 for i in index})\n",
    "    samples = index[np.argsort(-scores[index])[:100]]\n",
    "    samples_.append(samples)"
   ]
  },
  {
   "cell_type": "code",
   "execution_count": null,
   "metadata": {
    "scrolled": true
   },
   "outputs": [],
   "source": [
    "visualize_dots(samples_, components)"
   ]
  },
  {
   "cell_type": "markdown",
   "metadata": {},
   "source": [
    "## Science"
   ]
  },
  {
   "cell_type": "code",
   "execution_count": null,
   "metadata": {},
   "outputs": [],
   "source": [
    "components = np.array([0, 7, 6])\n",
    "print(names_labels_pred[components])"
   ]
  },
  {
   "cell_type": "code",
   "execution_count": null,
   "metadata": {},
   "outputs": [],
   "source": [
    "labels_ = np.array([7, 8, 10])\n",
    "print(names_labels[labels_])"
   ]
  },
  {
   "cell_type": "code",
   "execution_count": null,
   "metadata": {},
   "outputs": [],
   "source": [
    "samples_ = []\n",
    "for label in labels_:\n",
    "    index = np.argwhere((labels == label)).ravel()\n",
    "    scores = pr.fit_transform(adjacency, seeds = {i: 1 for i in index})\n",
    "    samples = index[np.argsort(-scores[index])[:100]]\n",
    "    samples_.append(samples)"
   ]
  },
  {
   "cell_type": "code",
   "execution_count": null,
   "metadata": {},
   "outputs": [],
   "source": [
    "visualize_dots(samples_, components)"
   ]
  }
 ],
 "metadata": {
  "kernelspec": {
   "display_name": "Python 3",
   "language": "python",
   "name": "python3"
  },
  "language_info": {
   "codemirror_mode": {
    "name": "ipython",
    "version": 3
   },
   "file_extension": ".py",
   "mimetype": "text/x-python",
   "name": "python",
   "nbconvert_exporter": "python",
   "pygments_lexer": "ipython3",
   "version": "3.7.4"
  }
 },
 "nbformat": 4,
 "nbformat_minor": 2
}
